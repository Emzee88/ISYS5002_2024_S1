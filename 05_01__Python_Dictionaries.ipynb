{
  "cells": [
    {
      "cell_type": "markdown",
      "metadata": {
        "id": "view-in-github",
        "colab_type": "text"
      },
      "source": [
        "<a href=\"https://colab.research.google.com/github/Emzee88/ISYS5002_2024_S1/blob/main/05_01__Python_Dictionaries.ipynb\" target=\"_parent\"><img src=\"https://colab.research.google.com/assets/colab-badge.svg\" alt=\"Open In Colab\"/></a>"
      ]
    },
    {
      "cell_type": "markdown",
      "id": "e4d8cca6",
      "metadata": {
        "id": "e4d8cca6"
      },
      "source": [
        "\n",
        "# Managing Student Data with Python\n",
        "\n",
        "In this lesson, we'll explore different methods of managing student data for a course. We'll begin with a simple approach using lists and then demonstrate the power of dictionaries for more effective data management. Finally, we'll expand our data model to include not just student IDs and marks, but also names, showcasing the flexibility of dictionaries.\n"
      ]
    },
    {
      "cell_type": "markdown",
      "id": "2f8d270e",
      "metadata": {
        "id": "2f8d270e"
      },
      "source": [
        "\n",
        "## Introduction to Python Lists and Dictionaries\n",
        "\n",
        "- **Lists** are ordered collections of items that can be of mixed types. Lists are mutable, allowing modification after creation.\n",
        "- **Dictionaries** are unordered collections of key-value pairs. They allow for fast retrieval, addition, and removal of items by key.\n"
      ]
    },
    {
      "cell_type": "markdown",
      "id": "8867d81c",
      "metadata": {
        "id": "8867d81c"
      },
      "source": [
        "\n",
        "### Part 1: Storing Student Data with Lists\n",
        "\n",
        "Initially, we might consider using lists to store student IDs and their corresponding marks. Let's see how that would look.\n"
      ]
    },
    {
      "cell_type": "code",
      "execution_count": null,
      "id": "071ce1a7",
      "metadata": {
        "id": "071ce1a7"
      },
      "outputs": [],
      "source": [
        "student_ids = ['S001', 'S002', 'S003', 'S004']\n",
        "student_marks = [88, 92, 75, 63]\n",
        "\n",
        "# Accessing the mark of the second student\n",
        "print(f\"Mark of student {student_ids[1]}: {student_marks[1]}\")\n"
      ]
    },
    {
      "cell_type": "code",
      "source": [
        "student_ids = ['S001', 'S002', 'S003', 'S004']\n",
        "student_marks = [88, 92, 75, 63]\n",
        "\n",
        "# Accessing the mark of the second student\n",
        "print(f\"Mark of student {student_ids[1]}: {student_marks[1]}\")"
      ],
      "metadata": {
        "id": "ErqTpbO4pJ3E"
      },
      "id": "ErqTpbO4pJ3E",
      "execution_count": null,
      "outputs": []
    },
    {
      "cell_type": "markdown",
      "id": "5dd8067d",
      "metadata": {
        "id": "5dd8067d"
      },
      "source": [
        "\n",
        "While lists allow us to store related data, maintaining two parallel lists can be cumbersome and error-prone, especially as data grows or changes.\n"
      ]
    },
    {
      "cell_type": "markdown",
      "id": "415f8435",
      "metadata": {
        "id": "415f8435"
      },
      "source": [
        "\n",
        "## Transitioning to Dictionaries\n",
        "\n",
        "Dictionaries provide a more robust and intuitive way to link student IDs directly to their marks, eliminating the need for parallel lists.\n"
      ]
    },
    {
      "cell_type": "markdown",
      "id": "3e5014b0",
      "metadata": {
        "id": "3e5014b0"
      },
      "source": [
        "\n",
        "### Part 2: Improving with Dictionaries\n",
        "\n",
        "Now, let's reimplement our data storage using a dictionary.\n"
      ]
    },
    {
      "cell_type": "code",
      "execution_count": 1,
      "id": "bd0449d5",
      "metadata": {
        "id": "bd0449d5",
        "colab": {
          "base_uri": "https://localhost:8080/"
        },
        "outputId": "b02ee544-4d5f-4ce9-a1e2-3850b79a53b6"
      },
      "outputs": [
        {
          "output_type": "stream",
          "name": "stdout",
          "text": [
            "Mark of student S002: 92\n"
          ]
        }
      ],
      "source": [
        "\n",
        "student_marks = {\n",
        "    'S001': 88,\n",
        "    'S002': 92,\n",
        "    'S003': 75,\n",
        "    'S004': 63\n",
        "}\n",
        "\n",
        "# Accessing the mark of student S002\n",
        "print(f\"Mark of student S002: {student_marks['S002']}\")\n"
      ]
    },
    {
      "cell_type": "markdown",
      "id": "e0ac3295",
      "metadata": {
        "id": "e0ac3295"
      },
      "source": [
        "\n",
        "### Part 3: Expanding the Data Model\n",
        "\n",
        "Dictionaries aren't just limited to storing pairs of keys and values; they can store complex nested data. Let's expand our model to include student names.\n"
      ]
    },
    {
      "cell_type": "code",
      "execution_count": 2,
      "id": "bd82a7e6",
      "metadata": {
        "id": "bd82a7e6",
        "colab": {
          "base_uri": "https://localhost:8080/"
        },
        "outputId": "c356e3fb-021a-4579-84e3-3f20ef566aa0"
      },
      "outputs": [
        {
          "output_type": "stream",
          "name": "stdout",
          "text": [
            "Name: Bob, Mark: 92\n"
          ]
        }
      ],
      "source": [
        "\n",
        "student_info = {\n",
        "    'S001': {'name': 'Alice', 'mark': 88},\n",
        "    'S002': {'name': 'Bob', 'mark': 92},\n",
        "    'S003': {'name': 'Charlie', 'mark': 75},\n",
        "    'S004': {'name': 'Diana', 'mark': 63}\n",
        "}\n",
        "\n",
        "# Accessing the name and mark of student S002\n",
        "student = student_info['S002']\n",
        "print(f\"Name: {student['name']}, Mark: {student['mark']}\")\n"
      ]
    },
    {
      "cell_type": "code",
      "source": [
        "student = student_info['S002']\n",
        "student"
      ],
      "metadata": {
        "colab": {
          "base_uri": "https://localhost:8080/"
        },
        "id": "4ewnkQ2yW7yA",
        "outputId": "7735ff7c-1eea-47ed-8c6f-23c22ce6a699"
      },
      "id": "4ewnkQ2yW7yA",
      "execution_count": 4,
      "outputs": [
        {
          "output_type": "execute_result",
          "data": {
            "text/plain": [
              "{'name': 'Bob', 'mark': 92}"
            ]
          },
          "metadata": {},
          "execution_count": 4
        }
      ]
    },
    {
      "cell_type": "code",
      "source": [
        "student ['name']"
      ],
      "metadata": {
        "colab": {
          "base_uri": "https://localhost:8080/",
          "height": 35
        },
        "id": "7ebuoEwWW-o4",
        "outputId": "8c9f83c4-873f-4403-f8e5-8fa2a3cf8eb5"
      },
      "id": "7ebuoEwWW-o4",
      "execution_count": 5,
      "outputs": [
        {
          "output_type": "execute_result",
          "data": {
            "text/plain": [
              "'Bob'"
            ],
            "application/vnd.google.colaboratory.intrinsic+json": {
              "type": "string"
            }
          },
          "metadata": {},
          "execution_count": 5
        }
      ]
    },
    {
      "cell_type": "markdown",
      "id": "95302522",
      "metadata": {
        "id": "95302522"
      },
      "source": [
        "\n",
        "## Conclusion\n",
        "\n",
        "Through this lesson, we've seen how to evolve from using lists to dictionaries for managing student data, demonstrating the increased efficiency and flexibility dictionaries provide. We also explored nested dictionaries for handling more complex data structures.\n",
        "\n",
        "### Exercises\n",
        "\n",
        "1. Add a new student to the `student_info` dictionary.\n",
        "2. Update the mark for a student.\n",
        "3. Remove a student from the `student_info` dictionary.\n",
        "4. Iterate over the `student_info` dictionary to print out each student's name and mark.\n"
      ]
    },
    {
      "cell_type": "code",
      "source": [
        "\n",
        "student_info = {\n",
        "    'S001': {'name': 'Alice', 'mark': 88},\n",
        "    'S002': {'name': 'Bob', 'mark': 92},\n",
        "    'S003': {'name': 'Charlie', 'mark': 75},\n",
        "    'S004': {'name': 'Diana', 'mark': 63},\n",
        "    'S005': {'name': 'Sean', 'mark': 80},\n",
        "}\n",
        "\n",
        "# Accessing the name and mark of student S005\n",
        "student = student_info['S005']\n",
        "print(f\"Name: {student['name']}, Mark: {student['mark']}\")\n"
      ],
      "metadata": {
        "colab": {
          "base_uri": "https://localhost:8080/"
        },
        "id": "jKD8KaGoXoCD",
        "outputId": "4dde0383-4d1d-46c4-9c51-5c9f7ee82787"
      },
      "id": "jKD8KaGoXoCD",
      "execution_count": 11,
      "outputs": [
        {
          "output_type": "stream",
          "name": "stdout",
          "text": [
            "Name: Sean, Mark: 80\n"
          ]
        }
      ]
    },
    {
      "cell_type": "code",
      "source": [
        "student_info['S004']['mark'] = 73"
      ],
      "metadata": {
        "id": "_rymlw_NZ6yR"
      },
      "id": "_rymlw_NZ6yR",
      "execution_count": 15,
      "outputs": []
    },
    {
      "cell_type": "code",
      "source": [
        "student_info['S004']"
      ],
      "metadata": {
        "colab": {
          "base_uri": "https://localhost:8080/"
        },
        "id": "rwoo-_HhaHDd",
        "outputId": "3a90015a-b4be-4aa3-8568-2c047daadee1"
      },
      "id": "rwoo-_HhaHDd",
      "execution_count": 17,
      "outputs": [
        {
          "output_type": "execute_result",
          "data": {
            "text/plain": [
              "{'name': 'Diana', 'mark': 73}"
            ]
          },
          "metadata": {},
          "execution_count": 17
        }
      ]
    },
    {
      "cell_type": "code",
      "source": [
        "student_info.popitem()"
      ],
      "metadata": {
        "colab": {
          "base_uri": "https://localhost:8080/"
        },
        "id": "KSOq5HYKapDR",
        "outputId": "30ea0b07-62a1-44c4-b31e-50e5bd94132f"
      },
      "id": "KSOq5HYKapDR",
      "execution_count": 18,
      "outputs": [
        {
          "output_type": "execute_result",
          "data": {
            "text/plain": [
              "('S005', {'name': 'Sean', 'mark': 80})"
            ]
          },
          "metadata": {},
          "execution_count": 18
        }
      ]
    },
    {
      "cell_type": "code",
      "source": [
        "del student_info['S002']"
      ],
      "metadata": {
        "id": "C6fgXSrpaxug"
      },
      "id": "C6fgXSrpaxug",
      "execution_count": 19,
      "outputs": []
    },
    {
      "cell_type": "code",
      "source": [
        "student_info"
      ],
      "metadata": {
        "colab": {
          "base_uri": "https://localhost:8080/"
        },
        "id": "gyT8Ek3Da33Z",
        "outputId": "33ab899b-52b7-4716-ee33-36417510a527"
      },
      "id": "gyT8Ek3Da33Z",
      "execution_count": 20,
      "outputs": [
        {
          "output_type": "execute_result",
          "data": {
            "text/plain": [
              "{'S001': {'name': 'Alice', 'mark': 88},\n",
              " 'S003': {'name': 'Charlie', 'mark': 75},\n",
              " 'S004': {'name': 'Diana', 'mark': 73}}"
            ]
          },
          "metadata": {},
          "execution_count": 20
        }
      ]
    },
    {
      "cell_type": "code",
      "source": [
        "for name, mark in student_info():\n",
        "  Print('Name', name)\n",
        "  Print('Mark', mark)"
      ],
      "metadata": {
        "colab": {
          "base_uri": "https://localhost:8080/",
          "height": 173
        },
        "id": "qCM6ALara9zn",
        "outputId": "d41c4aef-3279-4a1f-feeb-f426abe72477"
      },
      "id": "qCM6ALara9zn",
      "execution_count": 23,
      "outputs": [
        {
          "output_type": "error",
          "ename": "TypeError",
          "evalue": "'dict' object is not callable",
          "traceback": [
            "\u001b[0;31m---------------------------------------------------------------------------\u001b[0m",
            "\u001b[0;31mTypeError\u001b[0m                                 Traceback (most recent call last)",
            "\u001b[0;32m<ipython-input-23-52817c7dc851>\u001b[0m in \u001b[0;36m<cell line: 1>\u001b[0;34m()\u001b[0m\n\u001b[0;32m----> 1\u001b[0;31m \u001b[0;32mfor\u001b[0m \u001b[0mname\u001b[0m\u001b[0;34m,\u001b[0m \u001b[0mmark\u001b[0m \u001b[0;32min\u001b[0m \u001b[0mstudent_info\u001b[0m\u001b[0;34m(\u001b[0m\u001b[0;34m)\u001b[0m\u001b[0;34m:\u001b[0m\u001b[0;34m\u001b[0m\u001b[0;34m\u001b[0m\u001b[0m\n\u001b[0m\u001b[1;32m      2\u001b[0m   \u001b[0mPrint\u001b[0m\u001b[0;34m(\u001b[0m\u001b[0;34m'Name'\u001b[0m\u001b[0;34m,\u001b[0m \u001b[0mname\u001b[0m\u001b[0;34m)\u001b[0m\u001b[0;34m\u001b[0m\u001b[0;34m\u001b[0m\u001b[0m\n\u001b[1;32m      3\u001b[0m   \u001b[0mPrint\u001b[0m\u001b[0;34m(\u001b[0m\u001b[0;34m'Mark'\u001b[0m\u001b[0;34m,\u001b[0m \u001b[0mmark\u001b[0m\u001b[0;34m)\u001b[0m\u001b[0;34m\u001b[0m\u001b[0;34m\u001b[0m\u001b[0m\n",
            "\u001b[0;31mTypeError\u001b[0m: 'dict' object is not callable"
          ]
        }
      ]
    }
  ],
  "metadata": {
    "colab": {
      "provenance": [],
      "include_colab_link": true
    },
    "language_info": {
      "name": "python"
    },
    "kernelspec": {
      "name": "python3",
      "display_name": "Python 3"
    }
  },
  "nbformat": 4,
  "nbformat_minor": 5
}