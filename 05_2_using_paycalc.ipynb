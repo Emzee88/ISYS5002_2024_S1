{
  "nbformat": 4,
  "nbformat_minor": 0,
  "metadata": {
    "colab": {
      "provenance": [],
      "include_colab_link": true
    },
    "kernelspec": {
      "name": "python3",
      "display_name": "Python 3"
    },
    "language_info": {
      "name": "python"
    }
  },
  "cells": [
    {
      "cell_type": "markdown",
      "metadata": {
        "id": "view-in-github",
        "colab_type": "text"
      },
      "source": [
        "<a href=\"https://colab.research.google.com/github/Emzee88/ISYS5002_2024_S1/blob/main/05_2_using_paycalc.ipynb\" target=\"_parent\"><img src=\"https://colab.research.google.com/assets/colab-badge.svg\" alt=\"Open In Colab\"/></a>"
      ]
    },
    {
      "cell_type": "markdown",
      "source": [
        "## import paycalc module"
      ],
      "metadata": {
        "id": "psgn2zwBTZkM"
      }
    },
    {
      "cell_type": "code",
      "source": [
        "import paycalc as pay\n"
      ],
      "metadata": {
        "id": "1iSGQfwlQL45",
        "colab": {
          "base_uri": "https://localhost:8080/"
        },
        "outputId": "bbd3b651-b10c-4b63-9d01-9e12e8a5bcda"
      },
      "execution_count": 3,
      "outputs": [
        {
          "output_type": "stream",
          "name": "stdout",
          "text": [
            "Help on method choice in module random:\n",
            "\n",
            "choice(seq) method of random.Random instance\n",
            "    Choose a random element from a non-empty sequence.\n",
            "\n"
          ]
        }
      ]
    },
    {
      "cell_type": "markdown",
      "source": [
        "## call the relevant functions from the `paycalc` module to\n",
        "* get user input\n",
        "* calculate the pay\n",
        "* print the payslip"
      ],
      "metadata": {
        "id": "Mq_ihQNxTfX1"
      }
    },
    {
      "cell_type": "code",
      "source": [],
      "metadata": {
        "id": "l-PmDv0fRvQC"
      },
      "execution_count": null,
      "outputs": []
    }
  ]
}