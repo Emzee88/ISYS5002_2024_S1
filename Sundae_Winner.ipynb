{
  "nbformat": 4,
  "nbformat_minor": 0,
  "metadata": {
    "colab": {
      "provenance": [],
      "authorship_tag": "ABX9TyNMCeTUm9KLzZRe0mBbl3pG",
      "include_colab_link": true
    },
    "kernelspec": {
      "name": "python3",
      "display_name": "Python 3"
    },
    "language_info": {
      "name": "python"
    }
  },
  "cells": [
    {
      "cell_type": "markdown",
      "metadata": {
        "id": "view-in-github",
        "colab_type": "text"
      },
      "source": [
        "<a href=\"https://colab.research.google.com/github/Emzee88/ISYS5002_2024_S1/blob/main/Sundae_Winner.ipynb\" target=\"_parent\"><img src=\"https://colab.research.google.com/assets/colab-badge.svg\" alt=\"Open In Colab\"/></a>"
      ]
    },
    {
      "cell_type": "code",
      "source": [
        "import random # imports the random module which have the choice method"
      ],
      "metadata": {
        "id": "6jOL8wM5qVJ3"
      },
      "execution_count": 7,
      "outputs": []
    },
    {
      "cell_type": "code",
      "source": [
        "# this creates a list of names\n",
        "# assign the list to variable name (storage container) to hold the list items\n",
        "customers = ['Jimmy', 'Kim', 'John', 'Stacie']"
      ],
      "metadata": {
        "id": "M3brS-0Opn9O"
      },
      "execution_count": 8,
      "outputs": []
    },
    {
      "cell_type": "code",
      "source": [
        "# choose randomly a name from the list = customer's list\n",
        "# assign the chosen name (value) a variable (storage) named winner\n",
        "winner = random.choice(customers)"
      ],
      "metadata": {
        "id": "BYAnpjMbqhWZ"
      },
      "execution_count": 10,
      "outputs": []
    },
    {
      "cell_type": "code",
      "source": [
        "# assign the variable 'vanilla' into new variable named 'flavor'\n",
        "flavor = 'vanilla'"
      ],
      "metadata": {
        "id": "V-QCLCvvqqYW"
      },
      "execution_count": 11,
      "outputs": []
    },
    {
      "cell_type": "code",
      "source": [
        "# display/print the statement to the screen/user\n",
        "print('Congratulations ' + winner +\n",
        " ' you have won an ice cream sundae!')"
      ],
      "metadata": {
        "colab": {
          "base_uri": "https://localhost:8080/"
        },
        "id": "fSgcNXyKquWl",
        "outputId": "a309a90b-8c4a-4d15-aa1a-9448abb49d81"
      },
      "execution_count": 12,
      "outputs": [
        {
          "output_type": "stream",
          "name": "stdout",
          "text": [
            "Congratulations Stacie you have won an ice cream sundae!\n"
          ]
        }
      ]
    },
    {
      "cell_type": "code",
      "source": [
        "flavor"
      ],
      "metadata": {
        "colab": {
          "base_uri": "https://localhost:8080/",
          "height": 35
        },
        "id": "Rd_B1f7WvFvb",
        "outputId": "d8583ee1-0991-448d-87f4-245fd402374e"
      },
      "execution_count": 13,
      "outputs": [
        {
          "output_type": "execute_result",
          "data": {
            "text/plain": [
              "'vanilla'"
            ],
            "application/vnd.google.colaboratory.intrinsic+json": {
              "type": "string"
            }
          },
          "metadata": {},
          "execution_count": 13
        }
      ]
    },
    {
      "cell_type": "code",
      "source": [
        "flavor = 'chocolate'"
      ],
      "metadata": {
        "id": "o4zbhpbVvVmW"
      },
      "execution_count": 14,
      "outputs": []
    },
    {
      "cell_type": "code",
      "source": [
        "flavor"
      ],
      "metadata": {
        "colab": {
          "base_uri": "https://localhost:8080/",
          "height": 35
        },
        "id": "dUiFLdadvaJY",
        "outputId": "c2ef0f9b-4ff0-4a65-d3ce-a27187320320"
      },
      "execution_count": 15,
      "outputs": [
        {
          "output_type": "execute_result",
          "data": {
            "text/plain": [
              "'chocolate'"
            ],
            "application/vnd.google.colaboratory.intrinsic+json": {
              "type": "string"
            }
          },
          "metadata": {},
          "execution_count": 15
        }
      ]
    },
    {
      "cell_type": "code",
      "source": [
        "prompt = 'Would you like a cherry on top? '"
      ],
      "metadata": {
        "id": "3cmAGIhRvfPP"
      },
      "execution_count": 16,
      "outputs": []
    },
    {
      "cell_type": "code",
      "source": [
        "wants_cherry = input(prompt)"
      ],
      "metadata": {
        "colab": {
          "base_uri": "https://localhost:8080/"
        },
        "id": "X4IyPF_XvjSa",
        "outputId": "5c3b9487-89be-4ca5-a0e1-0dbe18897388"
      },
      "execution_count": 19,
      "outputs": [
        {
          "name": "stdout",
          "output_type": "stream",
          "text": [
            "Would you like a cherry on top? yes\n"
          ]
        }
      ]
    },
    {
      "cell_type": "code",
      "source": [
        "order = flavor + ' sundae '"
      ],
      "metadata": {
        "id": "ovcqKV9hv0e5"
      },
      "execution_count": 20,
      "outputs": []
    },
    {
      "cell_type": "code",
      "source": [
        "if (wants_cherry == 'yes'):\n",
        " order = order + ' with a cherry on top'"
      ],
      "metadata": {
        "id": "3RH7OoA8v4q3"
      },
      "execution_count": 21,
      "outputs": []
    },
    {
      "cell_type": "code",
      "source": [
        "print('One ' + order + ' for ' + winner +\n",
        " ' coming right up...')"
      ],
      "metadata": {
        "colab": {
          "base_uri": "https://localhost:8080/"
        },
        "id": "AJXSYXndv7zf",
        "outputId": "ad84e742-7aac-41d7-92d4-5068d49a79d1"
      },
      "execution_count": 22,
      "outputs": [
        {
          "output_type": "stream",
          "name": "stdout",
          "text": [
            "One chocolate sundae  with a cherry on top for Stacie coming right up...\n"
          ]
        }
      ]
    }
  ]
}